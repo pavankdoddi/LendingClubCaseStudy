{
 "cells": [
  {
   "cell_type": "markdown",
   "id": "90b0bd9f",
   "metadata": {},
   "source": [
    "# Lending Club Default Analysis\n",
    "This analysis is Broadly divided into 4 main Parts:\n",
    "\n",
    "1) Data Understanding\n",
    "\n",
    "2) Data Cleansing\n",
    "\n",
    "3) Data Analysis\n",
    "\n",
    "4) Recommendations Based on Analysis"
   ]
  },
  {
   "cell_type": "code",
   "execution_count": 466,
   "id": "0c3f0834",
   "metadata": {},
   "outputs": [],
   "source": [
    "import numpy as np\n",
    "import pandas as pd\n",
    "import matplotlib.pyplot as plt\n",
    "import seaborn as sns"
   ]
  },
  {
   "cell_type": "code",
   "execution_count": 467,
   "id": "936fb9a3",
   "metadata": {},
   "outputs": [
    {
     "name": "stderr",
     "output_type": "stream",
     "text": [
      "C:\\Users\\Zenbook\\AppData\\Local\\Temp\\ipykernel_21040\\2633307259.py:1: DtypeWarning: Columns (47) have mixed types. Specify dtype option on import or set low_memory=False.\n",
      "  loan = pd.read_csv(\"loan.csv\", sep=',')\n"
     ]
    }
   ],
   "source": [
    "loan = pd.read_csv(\"loan.csv\", sep=',')"
   ]
  },
  {
   "cell_type": "code",
   "execution_count": 468,
   "id": "3eec789a",
   "metadata": {},
   "outputs": [
    {
     "name": "stdout",
     "output_type": "stream",
     "text": [
      "<class 'pandas.core.frame.DataFrame'>\n",
      "RangeIndex: 39717 entries, 0 to 39716\n",
      "Columns: 111 entries, id to total_il_high_credit_limit\n",
      "dtypes: float64(74), int64(13), object(24)\n",
      "memory usage: 33.6+ MB\n"
     ]
    }
   ],
   "source": [
    "loan.info()"
   ]
  },
  {
   "cell_type": "markdown",
   "id": "2782353f",
   "metadata": {},
   "source": [
    "# DATA UNDERSTANDING"
   ]
  },
  {
   "cell_type": "code",
   "execution_count": 469,
   "id": "24ddcf35",
   "metadata": {},
   "outputs": [],
   "source": [
    "#lets see the data provided for a better understanding of content\n"
   ]
  },
  {
   "cell_type": "code",
   "execution_count": 470,
   "id": "5f071eef",
   "metadata": {},
   "outputs": [
    {
     "data": {
      "text/html": [
       "<div>\n",
       "<style scoped>\n",
       "    .dataframe tbody tr th:only-of-type {\n",
       "        vertical-align: middle;\n",
       "    }\n",
       "\n",
       "    .dataframe tbody tr th {\n",
       "        vertical-align: top;\n",
       "    }\n",
       "\n",
       "    .dataframe thead th {\n",
       "        text-align: right;\n",
       "    }\n",
       "</style>\n",
       "<table border=\"1\" class=\"dataframe\">\n",
       "  <thead>\n",
       "    <tr style=\"text-align: right;\">\n",
       "      <th></th>\n",
       "      <th>id</th>\n",
       "      <th>member_id</th>\n",
       "      <th>loan_amnt</th>\n",
       "      <th>funded_amnt</th>\n",
       "      <th>funded_amnt_inv</th>\n",
       "      <th>term</th>\n",
       "      <th>int_rate</th>\n",
       "      <th>installment</th>\n",
       "      <th>grade</th>\n",
       "      <th>sub_grade</th>\n",
       "      <th>...</th>\n",
       "      <th>num_tl_90g_dpd_24m</th>\n",
       "      <th>num_tl_op_past_12m</th>\n",
       "      <th>pct_tl_nvr_dlq</th>\n",
       "      <th>percent_bc_gt_75</th>\n",
       "      <th>pub_rec_bankruptcies</th>\n",
       "      <th>tax_liens</th>\n",
       "      <th>tot_hi_cred_lim</th>\n",
       "      <th>total_bal_ex_mort</th>\n",
       "      <th>total_bc_limit</th>\n",
       "      <th>total_il_high_credit_limit</th>\n",
       "    </tr>\n",
       "  </thead>\n",
       "  <tbody>\n",
       "    <tr>\n",
       "      <th>0</th>\n",
       "      <td>1077501</td>\n",
       "      <td>1296599</td>\n",
       "      <td>5000</td>\n",
       "      <td>5000</td>\n",
       "      <td>4975.0</td>\n",
       "      <td>36 months</td>\n",
       "      <td>10.65%</td>\n",
       "      <td>162.87</td>\n",
       "      <td>B</td>\n",
       "      <td>B2</td>\n",
       "      <td>...</td>\n",
       "      <td>NaN</td>\n",
       "      <td>NaN</td>\n",
       "      <td>NaN</td>\n",
       "      <td>NaN</td>\n",
       "      <td>0.0</td>\n",
       "      <td>0.0</td>\n",
       "      <td>NaN</td>\n",
       "      <td>NaN</td>\n",
       "      <td>NaN</td>\n",
       "      <td>NaN</td>\n",
       "    </tr>\n",
       "    <tr>\n",
       "      <th>1</th>\n",
       "      <td>1077430</td>\n",
       "      <td>1314167</td>\n",
       "      <td>2500</td>\n",
       "      <td>2500</td>\n",
       "      <td>2500.0</td>\n",
       "      <td>60 months</td>\n",
       "      <td>15.27%</td>\n",
       "      <td>59.83</td>\n",
       "      <td>C</td>\n",
       "      <td>C4</td>\n",
       "      <td>...</td>\n",
       "      <td>NaN</td>\n",
       "      <td>NaN</td>\n",
       "      <td>NaN</td>\n",
       "      <td>NaN</td>\n",
       "      <td>0.0</td>\n",
       "      <td>0.0</td>\n",
       "      <td>NaN</td>\n",
       "      <td>NaN</td>\n",
       "      <td>NaN</td>\n",
       "      <td>NaN</td>\n",
       "    </tr>\n",
       "    <tr>\n",
       "      <th>2</th>\n",
       "      <td>1077175</td>\n",
       "      <td>1313524</td>\n",
       "      <td>2400</td>\n",
       "      <td>2400</td>\n",
       "      <td>2400.0</td>\n",
       "      <td>36 months</td>\n",
       "      <td>15.96%</td>\n",
       "      <td>84.33</td>\n",
       "      <td>C</td>\n",
       "      <td>C5</td>\n",
       "      <td>...</td>\n",
       "      <td>NaN</td>\n",
       "      <td>NaN</td>\n",
       "      <td>NaN</td>\n",
       "      <td>NaN</td>\n",
       "      <td>0.0</td>\n",
       "      <td>0.0</td>\n",
       "      <td>NaN</td>\n",
       "      <td>NaN</td>\n",
       "      <td>NaN</td>\n",
       "      <td>NaN</td>\n",
       "    </tr>\n",
       "    <tr>\n",
       "      <th>3</th>\n",
       "      <td>1076863</td>\n",
       "      <td>1277178</td>\n",
       "      <td>10000</td>\n",
       "      <td>10000</td>\n",
       "      <td>10000.0</td>\n",
       "      <td>36 months</td>\n",
       "      <td>13.49%</td>\n",
       "      <td>339.31</td>\n",
       "      <td>C</td>\n",
       "      <td>C1</td>\n",
       "      <td>...</td>\n",
       "      <td>NaN</td>\n",
       "      <td>NaN</td>\n",
       "      <td>NaN</td>\n",
       "      <td>NaN</td>\n",
       "      <td>0.0</td>\n",
       "      <td>0.0</td>\n",
       "      <td>NaN</td>\n",
       "      <td>NaN</td>\n",
       "      <td>NaN</td>\n",
       "      <td>NaN</td>\n",
       "    </tr>\n",
       "    <tr>\n",
       "      <th>4</th>\n",
       "      <td>1075358</td>\n",
       "      <td>1311748</td>\n",
       "      <td>3000</td>\n",
       "      <td>3000</td>\n",
       "      <td>3000.0</td>\n",
       "      <td>60 months</td>\n",
       "      <td>12.69%</td>\n",
       "      <td>67.79</td>\n",
       "      <td>B</td>\n",
       "      <td>B5</td>\n",
       "      <td>...</td>\n",
       "      <td>NaN</td>\n",
       "      <td>NaN</td>\n",
       "      <td>NaN</td>\n",
       "      <td>NaN</td>\n",
       "      <td>0.0</td>\n",
       "      <td>0.0</td>\n",
       "      <td>NaN</td>\n",
       "      <td>NaN</td>\n",
       "      <td>NaN</td>\n",
       "      <td>NaN</td>\n",
       "    </tr>\n",
       "  </tbody>\n",
       "</table>\n",
       "<p>5 rows × 111 columns</p>\n",
       "</div>"
      ],
      "text/plain": [
       "        id  member_id  loan_amnt  funded_amnt  funded_amnt_inv        term  \\\n",
       "0  1077501    1296599       5000         5000           4975.0   36 months   \n",
       "1  1077430    1314167       2500         2500           2500.0   60 months   \n",
       "2  1077175    1313524       2400         2400           2400.0   36 months   \n",
       "3  1076863    1277178      10000        10000          10000.0   36 months   \n",
       "4  1075358    1311748       3000         3000           3000.0   60 months   \n",
       "\n",
       "  int_rate  installment grade sub_grade  ... num_tl_90g_dpd_24m  \\\n",
       "0   10.65%       162.87     B        B2  ...                NaN   \n",
       "1   15.27%        59.83     C        C4  ...                NaN   \n",
       "2   15.96%        84.33     C        C5  ...                NaN   \n",
       "3   13.49%       339.31     C        C1  ...                NaN   \n",
       "4   12.69%        67.79     B        B5  ...                NaN   \n",
       "\n",
       "  num_tl_op_past_12m pct_tl_nvr_dlq  percent_bc_gt_75 pub_rec_bankruptcies  \\\n",
       "0                NaN            NaN               NaN                  0.0   \n",
       "1                NaN            NaN               NaN                  0.0   \n",
       "2                NaN            NaN               NaN                  0.0   \n",
       "3                NaN            NaN               NaN                  0.0   \n",
       "4                NaN            NaN               NaN                  0.0   \n",
       "\n",
       "  tax_liens tot_hi_cred_lim total_bal_ex_mort total_bc_limit  \\\n",
       "0       0.0             NaN               NaN            NaN   \n",
       "1       0.0             NaN               NaN            NaN   \n",
       "2       0.0             NaN               NaN            NaN   \n",
       "3       0.0             NaN               NaN            NaN   \n",
       "4       0.0             NaN               NaN            NaN   \n",
       "\n",
       "  total_il_high_credit_limit  \n",
       "0                        NaN  \n",
       "1                        NaN  \n",
       "2                        NaN  \n",
       "3                        NaN  \n",
       "4                        NaN  \n",
       "\n",
       "[5 rows x 111 columns]"
      ]
     },
     "execution_count": 470,
     "metadata": {},
     "output_type": "execute_result"
    }
   ],
   "source": [
    "loan.head()"
   ]
  },
  {
   "cell_type": "code",
   "execution_count": 471,
   "id": "cbc74a77",
   "metadata": {},
   "outputs": [
    {
     "data": {
      "text/plain": [
       "Index(['id', 'member_id', 'loan_amnt', 'funded_amnt', 'funded_amnt_inv',\n",
       "       'term', 'int_rate', 'installment', 'grade', 'sub_grade',\n",
       "       ...\n",
       "       'num_tl_90g_dpd_24m', 'num_tl_op_past_12m', 'pct_tl_nvr_dlq',\n",
       "       'percent_bc_gt_75', 'pub_rec_bankruptcies', 'tax_liens',\n",
       "       'tot_hi_cred_lim', 'total_bal_ex_mort', 'total_bc_limit',\n",
       "       'total_il_high_credit_limit'],\n",
       "      dtype='object', length=111)"
      ]
     },
     "execution_count": 471,
     "metadata": {},
     "output_type": "execute_result"
    }
   ],
   "source": [
    "loan.columns"
   ]
  },
  {
   "cell_type": "markdown",
   "id": "620dbffb",
   "metadata": {},
   "source": [
    "The important columns in the dataset are loan amount, term, interest rate, grade, sub grade etc.\n",
    "\n",
    "The target variable that we want to compare across the independent variables, is loan status. The aim is to compare the average default rates across various independent variables and identify the ones that affect default rate the most."
   ]
  },
  {
   "cell_type": "markdown",
   "id": "36a8a11b",
   "metadata": {},
   "source": [
    "# DATA CLEANSING\n",
    "\n",
    "We need to check for missing values and address the issue first"
   ]
  },
  {
   "cell_type": "code",
   "execution_count": 472,
   "id": "069589e6",
   "metadata": {},
   "outputs": [],
   "source": [
    "# Lets see the sum of missing values column wise"
   ]
  },
  {
   "cell_type": "code",
   "execution_count": 473,
   "id": "0410aa65",
   "metadata": {},
   "outputs": [
    {
     "data": {
      "text/plain": [
       "id                                0\n",
       "member_id                         0\n",
       "loan_amnt                         0\n",
       "funded_amnt                       0\n",
       "funded_amnt_inv                   0\n",
       "                              ...  \n",
       "tax_liens                        39\n",
       "tot_hi_cred_lim               39717\n",
       "total_bal_ex_mort             39717\n",
       "total_bc_limit                39717\n",
       "total_il_high_credit_limit    39717\n",
       "Length: 111, dtype: int64"
      ]
     },
     "execution_count": 473,
     "metadata": {},
     "output_type": "execute_result"
    }
   ],
   "source": [
    "loan.isnull().sum()"
   ]
  },
  {
   "cell_type": "code",
   "execution_count": 474,
   "id": "16195fb1",
   "metadata": {},
   "outputs": [],
   "source": [
    "# Many columns seem to have no values at all. Lets find them and remove them."
   ]
  },
  {
   "cell_type": "code",
   "execution_count": 475,
   "id": "f9049bb9",
   "metadata": {},
   "outputs": [
    {
     "data": {
      "text/plain": [
       "id                              0.0\n",
       "member_id                       0.0\n",
       "loan_amnt                       0.0\n",
       "funded_amnt                     0.0\n",
       "funded_amnt_inv                 0.0\n",
       "                              ...  \n",
       "tax_liens                       0.0\n",
       "tot_hi_cred_lim               100.0\n",
       "total_bal_ex_mort             100.0\n",
       "total_bc_limit                100.0\n",
       "total_il_high_credit_limit    100.0\n",
       "Length: 111, dtype: float64"
      ]
     },
     "execution_count": 475,
     "metadata": {},
     "output_type": "execute_result"
    }
   ],
   "source": [
    "percentage_null_values=round(loan.isnull().sum()/len(loan.index), 2)*100\n",
    "percentage_null_values"
   ]
  },
  {
   "cell_type": "code",
   "execution_count": 476,
   "id": "c6699228",
   "metadata": {},
   "outputs": [],
   "source": [
    "# We will get rid of columns with 100% null values"
   ]
  },
  {
   "cell_type": "code",
   "execution_count": 477,
   "id": "98b013a5",
   "metadata": {},
   "outputs": [
    {
     "name": "stdout",
     "output_type": "stream",
     "text": [
      "Index(['mths_since_last_record', 'next_pymnt_d', 'mths_since_last_major_derog',\n",
      "       'annual_inc_joint', 'dti_joint', 'verification_status_joint',\n",
      "       'tot_coll_amt', 'tot_cur_bal', 'open_acc_6m', 'open_il_6m',\n",
      "       'open_il_12m', 'open_il_24m', 'mths_since_rcnt_il', 'total_bal_il',\n",
      "       'il_util', 'open_rv_12m', 'open_rv_24m', 'max_bal_bc', 'all_util',\n",
      "       'total_rev_hi_lim', 'inq_fi', 'total_cu_tl', 'inq_last_12m',\n",
      "       'acc_open_past_24mths', 'avg_cur_bal', 'bc_open_to_buy', 'bc_util',\n",
      "       'mo_sin_old_il_acct', 'mo_sin_old_rev_tl_op', 'mo_sin_rcnt_rev_tl_op',\n",
      "       'mo_sin_rcnt_tl', 'mort_acc', 'mths_since_recent_bc',\n",
      "       'mths_since_recent_bc_dlq', 'mths_since_recent_inq',\n",
      "       'mths_since_recent_revol_delinq', 'num_accts_ever_120_pd',\n",
      "       'num_actv_bc_tl', 'num_actv_rev_tl', 'num_bc_sats', 'num_bc_tl',\n",
      "       'num_il_tl', 'num_op_rev_tl', 'num_rev_accts', 'num_rev_tl_bal_gt_0',\n",
      "       'num_sats', 'num_tl_120dpd_2m', 'num_tl_30dpd', 'num_tl_90g_dpd_24m',\n",
      "       'num_tl_op_past_12m', 'pct_tl_nvr_dlq', 'percent_bc_gt_75',\n",
      "       'tot_hi_cred_lim', 'total_bal_ex_mort', 'total_bc_limit',\n",
      "       'total_il_high_credit_limit'],\n",
      "      dtype='object')\n"
     ]
    },
    {
     "data": {
      "text/plain": [
       "56"
      ]
     },
     "execution_count": 477,
     "metadata": {},
     "output_type": "execute_result"
    }
   ],
   "source": [
    "missing_columns = loan.columns[percentage_null_values > 90]\n",
    "print(missing_columns)\n",
    "len(missing_columns)"
   ]
  },
  {
   "cell_type": "code",
   "execution_count": 478,
   "id": "452729ea",
   "metadata": {},
   "outputs": [
    {
     "name": "stdout",
     "output_type": "stream",
     "text": [
      "<bound method DataFrame.info of             id  member_id  loan_amnt  funded_amnt  funded_amnt_inv  \\\n",
      "0      1077501    1296599       5000         5000           4975.0   \n",
      "1      1077430    1314167       2500         2500           2500.0   \n",
      "2      1077175    1313524       2400         2400           2400.0   \n",
      "3      1076863    1277178      10000        10000          10000.0   \n",
      "4      1075358    1311748       3000         3000           3000.0   \n",
      "...        ...        ...        ...          ...              ...   \n",
      "39712    92187      92174       2500         2500           1075.0   \n",
      "39713    90665      90607       8500         8500            875.0   \n",
      "39714    90395      90390       5000         5000           1325.0   \n",
      "39715    90376      89243       5000         5000            650.0   \n",
      "39716    87023      86999       7500         7500            800.0   \n",
      "\n",
      "             term int_rate  installment grade sub_grade  ... last_pymnt_amnt  \\\n",
      "0       36 months   10.65%       162.87     B        B2  ...          171.62   \n",
      "1       60 months   15.27%        59.83     C        C4  ...          119.66   \n",
      "2       36 months   15.96%        84.33     C        C5  ...          649.91   \n",
      "3       36 months   13.49%       339.31     C        C1  ...          357.48   \n",
      "4       60 months   12.69%        67.79     B        B5  ...           67.79   \n",
      "...           ...      ...          ...   ...       ...  ...             ...   \n",
      "39712   36 months    8.07%        78.42     A        A4  ...           80.90   \n",
      "39713   36 months   10.28%       275.38     C        C1  ...          281.94   \n",
      "39714   36 months    8.07%       156.84     A        A4  ...            0.00   \n",
      "39715   36 months    7.43%       155.38     A        A2  ...            0.00   \n",
      "39716   36 months   13.75%       255.43     E        E2  ...          256.59   \n",
      "\n",
      "      last_credit_pull_d collections_12_mths_ex_med  policy_code  \\\n",
      "0                 May-16                        0.0            1   \n",
      "1                 Sep-13                        0.0            1   \n",
      "2                 May-16                        0.0            1   \n",
      "3                 Apr-16                        0.0            1   \n",
      "4                 May-16                        0.0            1   \n",
      "...                  ...                        ...          ...   \n",
      "39712             Jun-10                        NaN            1   \n",
      "39713             Jul-10                        NaN            1   \n",
      "39714             Jun-07                        NaN            1   \n",
      "39715             Jun-07                        NaN            1   \n",
      "39716             Jun-10                        NaN            1   \n",
      "\n",
      "      application_type acc_now_delinq chargeoff_within_12_mths delinq_amnt  \\\n",
      "0           INDIVIDUAL              0                      0.0           0   \n",
      "1           INDIVIDUAL              0                      0.0           0   \n",
      "2           INDIVIDUAL              0                      0.0           0   \n",
      "3           INDIVIDUAL              0                      0.0           0   \n",
      "4           INDIVIDUAL              0                      0.0           0   \n",
      "...                ...            ...                      ...         ...   \n",
      "39712       INDIVIDUAL              0                      NaN           0   \n",
      "39713       INDIVIDUAL              0                      NaN           0   \n",
      "39714       INDIVIDUAL              0                      NaN           0   \n",
      "39715       INDIVIDUAL              0                      NaN           0   \n",
      "39716       INDIVIDUAL              0                      NaN           0   \n",
      "\n",
      "      pub_rec_bankruptcies tax_liens  \n",
      "0                      0.0       0.0  \n",
      "1                      0.0       0.0  \n",
      "2                      0.0       0.0  \n",
      "3                      0.0       0.0  \n",
      "4                      0.0       0.0  \n",
      "...                    ...       ...  \n",
      "39712                  NaN       NaN  \n",
      "39713                  NaN       NaN  \n",
      "39714                  NaN       NaN  \n",
      "39715                  NaN       NaN  \n",
      "39716                  NaN       NaN  \n",
      "\n",
      "[39717 rows x 55 columns]>\n"
     ]
    }
   ],
   "source": [
    "loan = loan.drop(missing_columns, axis=1)\n",
    "print(loan.info)"
   ]
  },
  {
   "cell_type": "code",
   "execution_count": 479,
   "id": "29340393",
   "metadata": {},
   "outputs": [],
   "source": [
    "# Checking for missing values again"
   ]
  },
  {
   "cell_type": "code",
   "execution_count": 480,
   "id": "767e4ebd",
   "metadata": {},
   "outputs": [
    {
     "data": {
      "text/plain": [
       "id                             0.0\n",
       "member_id                      0.0\n",
       "loan_amnt                      0.0\n",
       "funded_amnt                    0.0\n",
       "funded_amnt_inv                0.0\n",
       "term                           0.0\n",
       "int_rate                       0.0\n",
       "installment                    0.0\n",
       "grade                          0.0\n",
       "sub_grade                      0.0\n",
       "emp_title                      6.0\n",
       "emp_length                     3.0\n",
       "home_ownership                 0.0\n",
       "annual_inc                     0.0\n",
       "verification_status            0.0\n",
       "issue_d                        0.0\n",
       "loan_status                    0.0\n",
       "pymnt_plan                     0.0\n",
       "url                            0.0\n",
       "desc                          33.0\n",
       "purpose                        0.0\n",
       "title                          0.0\n",
       "zip_code                       0.0\n",
       "addr_state                     0.0\n",
       "dti                            0.0\n",
       "delinq_2yrs                    0.0\n",
       "earliest_cr_line               0.0\n",
       "inq_last_6mths                 0.0\n",
       "mths_since_last_delinq        65.0\n",
       "open_acc                       0.0\n",
       "pub_rec                        0.0\n",
       "revol_bal                      0.0\n",
       "revol_util                     0.0\n",
       "total_acc                      0.0\n",
       "initial_list_status            0.0\n",
       "out_prncp                      0.0\n",
       "out_prncp_inv                  0.0\n",
       "total_pymnt                    0.0\n",
       "total_pymnt_inv                0.0\n",
       "total_rec_prncp                0.0\n",
       "total_rec_int                  0.0\n",
       "total_rec_late_fee             0.0\n",
       "recoveries                     0.0\n",
       "collection_recovery_fee        0.0\n",
       "last_pymnt_d                   0.0\n",
       "last_pymnt_amnt                0.0\n",
       "last_credit_pull_d             0.0\n",
       "collections_12_mths_ex_med     0.0\n",
       "policy_code                    0.0\n",
       "application_type               0.0\n",
       "acc_now_delinq                 0.0\n",
       "chargeoff_within_12_mths       0.0\n",
       "delinq_amnt                    0.0\n",
       "pub_rec_bankruptcies           2.0\n",
       "tax_liens                      0.0\n",
       "dtype: float64"
      ]
     },
     "execution_count": 480,
     "metadata": {},
     "output_type": "execute_result"
    }
   ],
   "source": [
    "percentage_null_values=round(loan.isnull().sum()/len(loan.index), 2)*100\n",
    "percentage_null_values"
   ]
  },
  {
   "cell_type": "code",
   "execution_count": 481,
   "id": "7be74564",
   "metadata": {},
   "outputs": [],
   "source": [
    "# There are 2 other columns which are of concern with 33% and 65% missing data\n",
    "#1) Description and\n",
    "#2) Months since last deliquent\n",
    "\n",
    "#Lets see the data for understanding"
   ]
  },
  {
   "cell_type": "code",
   "execution_count": 482,
   "id": "b07a8f5f",
   "metadata": {},
   "outputs": [
    {
     "data": {
      "text/html": [
       "<div>\n",
       "<style scoped>\n",
       "    .dataframe tbody tr th:only-of-type {\n",
       "        vertical-align: middle;\n",
       "    }\n",
       "\n",
       "    .dataframe tbody tr th {\n",
       "        vertical-align: top;\n",
       "    }\n",
       "\n",
       "    .dataframe thead th {\n",
       "        text-align: right;\n",
       "    }\n",
       "</style>\n",
       "<table border=\"1\" class=\"dataframe\">\n",
       "  <thead>\n",
       "    <tr style=\"text-align: right;\">\n",
       "      <th></th>\n",
       "      <th>desc</th>\n",
       "      <th>mths_since_last_delinq</th>\n",
       "    </tr>\n",
       "  </thead>\n",
       "  <tbody>\n",
       "    <tr>\n",
       "      <th>0</th>\n",
       "      <td>Borrower added on 12/22/11 &gt; I need to upgra...</td>\n",
       "      <td>NaN</td>\n",
       "    </tr>\n",
       "    <tr>\n",
       "      <th>1</th>\n",
       "      <td>Borrower added on 12/22/11 &gt; I plan to use t...</td>\n",
       "      <td>NaN</td>\n",
       "    </tr>\n",
       "    <tr>\n",
       "      <th>2</th>\n",
       "      <td>NaN</td>\n",
       "      <td>NaN</td>\n",
       "    </tr>\n",
       "    <tr>\n",
       "      <th>3</th>\n",
       "      <td>Borrower added on 12/21/11 &gt; to pay for prop...</td>\n",
       "      <td>35.0</td>\n",
       "    </tr>\n",
       "    <tr>\n",
       "      <th>4</th>\n",
       "      <td>Borrower added on 12/21/11 &gt; I plan on combi...</td>\n",
       "      <td>38.0</td>\n",
       "    </tr>\n",
       "  </tbody>\n",
       "</table>\n",
       "</div>"
      ],
      "text/plain": [
       "                                                desc  mths_since_last_delinq\n",
       "0    Borrower added on 12/22/11 > I need to upgra...                     NaN\n",
       "1    Borrower added on 12/22/11 > I plan to use t...                     NaN\n",
       "2                                                NaN                     NaN\n",
       "3    Borrower added on 12/21/11 > to pay for prop...                    35.0\n",
       "4    Borrower added on 12/21/11 > I plan on combi...                    38.0"
      ]
     },
     "execution_count": 482,
     "metadata": {},
     "output_type": "execute_result"
    }
   ],
   "source": [
    "loan.loc[:, ['desc', 'mths_since_last_delinq']].head()"
   ]
  },
  {
   "cell_type": "code",
   "execution_count": 483,
   "id": "c910082c",
   "metadata": {},
   "outputs": [],
   "source": [
    "# We can derive from the data that desciption is in no way going to affect the default rate that we are targeted at so, we can safely remove the column.\n",
    "# Even \"Months since last deliquent\" is an information that we don't have before sanctioning a loan so is not useful in predicting wheter an applicant will default.So, we will remove this column also."
   ]
  },
  {
   "cell_type": "code",
   "execution_count": 484,
   "id": "2a71e717",
   "metadata": {},
   "outputs": [
    {
     "data": {
      "text/plain": [
       "(39717, 53)"
      ]
     },
     "execution_count": 484,
     "metadata": {},
     "output_type": "execute_result"
    }
   ],
   "source": [
    "loan=loan.drop(['desc', 'mths_since_last_delinq'],axis=1)\n",
    "loan.shape"
   ]
  },
  {
   "cell_type": "code",
   "execution_count": 485,
   "id": "5a7aba7e",
   "metadata": {},
   "outputs": [
    {
     "data": {
      "text/plain": [
       "id                            0.0\n",
       "member_id                     0.0\n",
       "loan_amnt                     0.0\n",
       "funded_amnt                   0.0\n",
       "funded_amnt_inv               0.0\n",
       "term                          0.0\n",
       "int_rate                      0.0\n",
       "installment                   0.0\n",
       "grade                         0.0\n",
       "sub_grade                     0.0\n",
       "emp_title                     6.0\n",
       "emp_length                    3.0\n",
       "home_ownership                0.0\n",
       "annual_inc                    0.0\n",
       "verification_status           0.0\n",
       "issue_d                       0.0\n",
       "loan_status                   0.0\n",
       "pymnt_plan                    0.0\n",
       "url                           0.0\n",
       "purpose                       0.0\n",
       "title                         0.0\n",
       "zip_code                      0.0\n",
       "addr_state                    0.0\n",
       "dti                           0.0\n",
       "delinq_2yrs                   0.0\n",
       "earliest_cr_line              0.0\n",
       "inq_last_6mths                0.0\n",
       "open_acc                      0.0\n",
       "pub_rec                       0.0\n",
       "revol_bal                     0.0\n",
       "revol_util                    0.0\n",
       "total_acc                     0.0\n",
       "initial_list_status           0.0\n",
       "out_prncp                     0.0\n",
       "out_prncp_inv                 0.0\n",
       "total_pymnt                   0.0\n",
       "total_pymnt_inv               0.0\n",
       "total_rec_prncp               0.0\n",
       "total_rec_int                 0.0\n",
       "total_rec_late_fee            0.0\n",
       "recoveries                    0.0\n",
       "collection_recovery_fee       0.0\n",
       "last_pymnt_d                  0.0\n",
       "last_pymnt_amnt               0.0\n",
       "last_credit_pull_d            0.0\n",
       "collections_12_mths_ex_med    0.0\n",
       "policy_code                   0.0\n",
       "application_type              0.0\n",
       "acc_now_delinq                0.0\n",
       "chargeoff_within_12_mths      0.0\n",
       "delinq_amnt                   0.0\n",
       "pub_rec_bankruptcies          2.0\n",
       "tax_liens                     0.0\n",
       "dtype: float64"
      ]
     },
     "execution_count": 485,
     "metadata": {},
     "output_type": "execute_result"
    }
   ],
   "source": [
    "percentage_null_values=round(loan.isnull().sum()/len(loan.index), 2)*100\n",
    "percentage_null_values"
   ]
  },
  {
   "cell_type": "code",
   "execution_count": 486,
   "id": "ded8ea34",
   "metadata": {},
   "outputs": [],
   "source": [
    "# There are few other columns with missing data but those columns are having data which may not effect our desired target and data missing is almost nill."
   ]
  },
  {
   "cell_type": "code",
   "execution_count": 487,
   "id": "2b668742",
   "metadata": {},
   "outputs": [],
   "source": [
    "# As a sanctity test lets see if there are any missing values in rows"
   ]
  },
  {
   "cell_type": "code",
   "execution_count": 488,
   "id": "c9cb0a6b",
   "metadata": {},
   "outputs": [
    {
     "data": {
      "text/plain": [
       "0        1\n",
       "1        0\n",
       "2        1\n",
       "3        0\n",
       "4        0\n",
       "        ..\n",
       "39712    4\n",
       "39713    4\n",
       "39714    5\n",
       "39715    5\n",
       "39716    4\n",
       "Length: 39717, dtype: int64"
      ]
     },
     "execution_count": 488,
     "metadata": {},
     "output_type": "execute_result"
    }
   ],
   "source": [
    "loan.isnull().sum(axis=1)"
   ]
  },
  {
   "cell_type": "code",
   "execution_count": 489,
   "id": "4e13da53",
   "metadata": {},
   "outputs": [],
   "source": [
    "# Checking whether any of the rows are having more than 5 missing values"
   ]
  },
  {
   "cell_type": "code",
   "execution_count": 490,
   "id": "12f37d7f",
   "metadata": {},
   "outputs": [
    {
     "data": {
      "text/plain": [
       "0"
      ]
     },
     "execution_count": 490,
     "metadata": {},
     "output_type": "execute_result"
    }
   ],
   "source": [
    "len(loan[loan.isnull().sum(axis=1)>5].index)"
   ]
  },
  {
   "cell_type": "code",
   "execution_count": 491,
   "id": "18d30280",
   "metadata": {},
   "outputs": [],
   "source": [
    "# We can assume that the data is almost clean"
   ]
  },
  {
   "cell_type": "code",
   "execution_count": 492,
   "id": "1b9720f4",
   "metadata": {},
   "outputs": [],
   "source": [
    "# Now we will check if the column are in correct format"
   ]
  },
  {
   "cell_type": "code",
   "execution_count": 493,
   "id": "d7706009",
   "metadata": {},
   "outputs": [
    {
     "name": "stdout",
     "output_type": "stream",
     "text": [
      "<class 'pandas.core.frame.DataFrame'>\n",
      "RangeIndex: 39717 entries, 0 to 39716\n",
      "Data columns (total 53 columns):\n",
      " #   Column                      Non-Null Count  Dtype  \n",
      "---  ------                      --------------  -----  \n",
      " 0   id                          39717 non-null  int64  \n",
      " 1   member_id                   39717 non-null  int64  \n",
      " 2   loan_amnt                   39717 non-null  int64  \n",
      " 3   funded_amnt                 39717 non-null  int64  \n",
      " 4   funded_amnt_inv             39717 non-null  float64\n",
      " 5   term                        39717 non-null  object \n",
      " 6   int_rate                    39717 non-null  object \n",
      " 7   installment                 39717 non-null  float64\n",
      " 8   grade                       39717 non-null  object \n",
      " 9   sub_grade                   39717 non-null  object \n",
      " 10  emp_title                   37258 non-null  object \n",
      " 11  emp_length                  38642 non-null  object \n",
      " 12  home_ownership              39717 non-null  object \n",
      " 13  annual_inc                  39717 non-null  float64\n",
      " 14  verification_status         39717 non-null  object \n",
      " 15  issue_d                     39717 non-null  object \n",
      " 16  loan_status                 39717 non-null  object \n",
      " 17  pymnt_plan                  39717 non-null  object \n",
      " 18  url                         39717 non-null  object \n",
      " 19  purpose                     39717 non-null  object \n",
      " 20  title                       39706 non-null  object \n",
      " 21  zip_code                    39717 non-null  object \n",
      " 22  addr_state                  39717 non-null  object \n",
      " 23  dti                         39717 non-null  float64\n",
      " 24  delinq_2yrs                 39717 non-null  int64  \n",
      " 25  earliest_cr_line            39717 non-null  object \n",
      " 26  inq_last_6mths              39717 non-null  int64  \n",
      " 27  open_acc                    39717 non-null  int64  \n",
      " 28  pub_rec                     39717 non-null  int64  \n",
      " 29  revol_bal                   39717 non-null  int64  \n",
      " 30  revol_util                  39667 non-null  object \n",
      " 31  total_acc                   39717 non-null  int64  \n",
      " 32  initial_list_status         39717 non-null  object \n",
      " 33  out_prncp                   39717 non-null  float64\n",
      " 34  out_prncp_inv               39717 non-null  float64\n",
      " 35  total_pymnt                 39717 non-null  float64\n",
      " 36  total_pymnt_inv             39717 non-null  float64\n",
      " 37  total_rec_prncp             39717 non-null  float64\n",
      " 38  total_rec_int               39717 non-null  float64\n",
      " 39  total_rec_late_fee          39717 non-null  float64\n",
      " 40  recoveries                  39717 non-null  float64\n",
      " 41  collection_recovery_fee     39717 non-null  float64\n",
      " 42  last_pymnt_d                39646 non-null  object \n",
      " 43  last_pymnt_amnt             39717 non-null  float64\n",
      " 44  last_credit_pull_d          39715 non-null  object \n",
      " 45  collections_12_mths_ex_med  39661 non-null  float64\n",
      " 46  policy_code                 39717 non-null  int64  \n",
      " 47  application_type            39717 non-null  object \n",
      " 48  acc_now_delinq              39717 non-null  int64  \n",
      " 49  chargeoff_within_12_mths    39661 non-null  float64\n",
      " 50  delinq_amnt                 39717 non-null  int64  \n",
      " 51  pub_rec_bankruptcies        39020 non-null  float64\n",
      " 52  tax_liens                   39678 non-null  float64\n",
      "dtypes: float64(18), int64(13), object(22)\n",
      "memory usage: 16.1+ MB\n"
     ]
    }
   ],
   "source": [
    "loan.info()"
   ]
  },
  {
   "cell_type": "code",
   "execution_count": 494,
   "id": "888a2435",
   "metadata": {},
   "outputs": [
    {
     "data": {
      "text/plain": [
       "0         36 months\n",
       "1         60 months\n",
       "2         36 months\n",
       "3         36 months\n",
       "4         60 months\n",
       "            ...    \n",
       "39712     36 months\n",
       "39713     36 months\n",
       "39714     36 months\n",
       "39715     36 months\n",
       "39716     36 months\n",
       "Name: term, Length: 39717, dtype: object"
      ]
     },
     "execution_count": 494,
     "metadata": {},
     "output_type": "execute_result"
    }
   ],
   "source": [
    "loan.term"
   ]
  },
  {
   "cell_type": "code",
   "execution_count": 495,
   "id": "7c514a5c",
   "metadata": {},
   "outputs": [
    {
     "data": {
      "text/plain": [
       "0        10.65%\n",
       "1        15.27%\n",
       "2        15.96%\n",
       "3        13.49%\n",
       "4        12.69%\n",
       "          ...  \n",
       "39712     8.07%\n",
       "39713    10.28%\n",
       "39714     8.07%\n",
       "39715     7.43%\n",
       "39716    13.75%\n",
       "Name: int_rate, Length: 39717, dtype: object"
      ]
     },
     "execution_count": 495,
     "metadata": {},
     "output_type": "execute_result"
    }
   ],
   "source": [
    "loan.int_rate"
   ]
  },
  {
   "cell_type": "code",
   "execution_count": 496,
   "id": "6bd4d278",
   "metadata": {},
   "outputs": [
    {
     "data": {
      "text/plain": [
       "dtype('float64')"
      ]
     },
     "execution_count": 496,
     "metadata": {},
     "output_type": "execute_result"
    }
   ],
   "source": [
    "loan.int_rate= loan.int_rate.apply(lambda x: float(x[:-1]))\n",
    "loan.int_rate\n",
    "loan.int_rate.dtype"
   ]
  },
  {
   "cell_type": "code",
   "execution_count": 497,
   "id": "a9266180",
   "metadata": {},
   "outputs": [
    {
     "data": {
      "text/plain": [
       "0        10+ years\n",
       "1         < 1 year\n",
       "2        10+ years\n",
       "3        10+ years\n",
       "4           1 year\n",
       "           ...    \n",
       "39712      4 years\n",
       "39713      3 years\n",
       "39714     < 1 year\n",
       "39715     < 1 year\n",
       "39716     < 1 year\n",
       "Name: emp_length, Length: 39717, dtype: object"
      ]
     },
     "execution_count": 497,
     "metadata": {},
     "output_type": "execute_result"
    }
   ],
   "source": [
    "loan.emp_length"
   ]
  },
  {
   "cell_type": "code",
   "execution_count": 498,
   "id": "47f7617b",
   "metadata": {},
   "outputs": [
    {
     "data": {
      "text/plain": [
       "0"
      ]
     },
     "execution_count": 498,
     "metadata": {},
     "output_type": "execute_result"
    }
   ],
   "source": [
    "# Extract the numeric part from the variable employment length\n",
    "\n",
    "# Drop the missing values from the column\n",
    "loan = loan[~loan['emp_length'].isnull()]\n",
    "loan.emp_length.isnull().sum()"
   ]
  },
  {
   "cell_type": "code",
   "execution_count": 499,
   "id": "a5ac6fa4",
   "metadata": {},
   "outputs": [
    {
     "data": {
      "text/plain": [
       "0    10\n",
       "1     1\n",
       "2    10\n",
       "3    10\n",
       "4     1\n",
       "Name: emp_length, dtype: int64"
      ]
     },
     "execution_count": 499,
     "metadata": {},
     "output_type": "execute_result"
    }
   ],
   "source": [
    "# using regular expression to extract numeric values from the string\n",
    "import re\n",
    "loan['emp_length'] = loan['emp_length'].apply(lambda x: re.findall('\\d+', str(x))[0])\n",
    "\n",
    "# convert to numeric\n",
    "loan['emp_length'] = loan['emp_length'].apply(lambda x: pd.to_numeric(x))\n",
    "loan.emp_length.head()"
   ]
  },
  {
   "cell_type": "code",
   "execution_count": 500,
   "id": "7d8e5495",
   "metadata": {},
   "outputs": [
    {
     "name": "stdout",
     "output_type": "stream",
     "text": [
      "<class 'pandas.core.frame.DataFrame'>\n",
      "Int64Index: 38642 entries, 0 to 39716\n",
      "Data columns (total 53 columns):\n",
      " #   Column                      Non-Null Count  Dtype  \n",
      "---  ------                      --------------  -----  \n",
      " 0   id                          38642 non-null  int64  \n",
      " 1   member_id                   38642 non-null  int64  \n",
      " 2   loan_amnt                   38642 non-null  int64  \n",
      " 3   funded_amnt                 38642 non-null  int64  \n",
      " 4   funded_amnt_inv             38642 non-null  float64\n",
      " 5   term                        38642 non-null  object \n",
      " 6   int_rate                    38642 non-null  float64\n",
      " 7   installment                 38642 non-null  float64\n",
      " 8   grade                       38642 non-null  object \n",
      " 9   sub_grade                   38642 non-null  object \n",
      " 10  emp_title                   37202 non-null  object \n",
      " 11  emp_length                  38642 non-null  int64  \n",
      " 12  home_ownership              38642 non-null  object \n",
      " 13  annual_inc                  38642 non-null  float64\n",
      " 14  verification_status         38642 non-null  object \n",
      " 15  issue_d                     38642 non-null  object \n",
      " 16  loan_status                 38642 non-null  object \n",
      " 17  pymnt_plan                  38642 non-null  object \n",
      " 18  url                         38642 non-null  object \n",
      " 19  purpose                     38642 non-null  object \n",
      " 20  title                       38632 non-null  object \n",
      " 21  zip_code                    38642 non-null  object \n",
      " 22  addr_state                  38642 non-null  object \n",
      " 23  dti                         38642 non-null  float64\n",
      " 24  delinq_2yrs                 38642 non-null  int64  \n",
      " 25  earliest_cr_line            38642 non-null  object \n",
      " 26  inq_last_6mths              38642 non-null  int64  \n",
      " 27  open_acc                    38642 non-null  int64  \n",
      " 28  pub_rec                     38642 non-null  int64  \n",
      " 29  revol_bal                   38642 non-null  int64  \n",
      " 30  revol_util                  38595 non-null  object \n",
      " 31  total_acc                   38642 non-null  int64  \n",
      " 32  initial_list_status         38642 non-null  object \n",
      " 33  out_prncp                   38642 non-null  float64\n",
      " 34  out_prncp_inv               38642 non-null  float64\n",
      " 35  total_pymnt                 38642 non-null  float64\n",
      " 36  total_pymnt_inv             38642 non-null  float64\n",
      " 37  total_rec_prncp             38642 non-null  float64\n",
      " 38  total_rec_int               38642 non-null  float64\n",
      " 39  total_rec_late_fee          38642 non-null  float64\n",
      " 40  recoveries                  38642 non-null  float64\n",
      " 41  collection_recovery_fee     38642 non-null  float64\n",
      " 42  last_pymnt_d                38576 non-null  object \n",
      " 43  last_pymnt_amnt             38642 non-null  float64\n",
      " 44  last_credit_pull_d          38640 non-null  object \n",
      " 45  collections_12_mths_ex_med  38586 non-null  float64\n",
      " 46  policy_code                 38642 non-null  int64  \n",
      " 47  application_type            38642 non-null  object \n",
      " 48  acc_now_delinq              38642 non-null  int64  \n",
      " 49  chargeoff_within_12_mths    38586 non-null  float64\n",
      " 50  delinq_amnt                 38642 non-null  int64  \n",
      " 51  pub_rec_bankruptcies        37945 non-null  float64\n",
      " 52  tax_liens                   38603 non-null  float64\n",
      "dtypes: float64(19), int64(14), object(20)\n",
      "memory usage: 15.9+ MB\n"
     ]
    }
   ],
   "source": [
    "loan.info()"
   ]
  },
  {
   "cell_type": "markdown",
   "id": "5af8aa9f",
   "metadata": {},
   "source": [
    "# DATA ANALYSIS"
   ]
  },
  {
   "cell_type": "code",
   "execution_count": 501,
   "id": "6f4543a9",
   "metadata": {},
   "outputs": [],
   "source": [
    "# On oberving the data we can see that there is data pertaining to:\n",
    "#1. Applicant ( Demographics and personal data)\n",
    "#2. Loan ( Loan Amount, Interest rate, period)\n",
    "#3. Customer behaviour ( deliquent,recoveries etc)\n",
    "\n",
    "#We know that Customer behavioural data is available only after availing the loan. So, this data is not relevant for our target analysis and we will drop the data."
   ]
  },
  {
   "cell_type": "code",
   "execution_count": 502,
   "id": "7de79c6d",
   "metadata": {},
   "outputs": [],
   "source": [
    "# Details like title, url, zip code and address are not determinants for our required information. So, dropping them\n",
    "\n",
    "df = loan.drop(['title', 'url', 'zip_code', 'addr_state'], axis=1)"
   ]
  },
  {
   "cell_type": "code",
   "execution_count": 503,
   "id": "b5a7c94f",
   "metadata": {},
   "outputs": [
    {
     "data": {
      "text/plain": [
       "['delinq_2yrs',\n",
       " 'earliest_cr_line',\n",
       " 'inq_last_6mths',\n",
       " 'open_acc',\n",
       " 'pub_rec',\n",
       " 'revol_bal',\n",
       " 'revol_util',\n",
       " 'total_acc',\n",
       " 'out_prncp',\n",
       " 'out_prncp_inv',\n",
       " 'total_pymnt',\n",
       " 'total_pymnt_inv',\n",
       " 'total_rec_prncp',\n",
       " 'total_rec_int',\n",
       " 'total_rec_late_fee',\n",
       " 'recoveries',\n",
       " 'collection_recovery_fee',\n",
       " 'last_pymnt_d',\n",
       " 'last_pymnt_amnt',\n",
       " 'last_credit_pull_d',\n",
       " 'application_type']"
      ]
     },
     "execution_count": 503,
     "metadata": {},
     "output_type": "execute_result"
    }
   ],
   "source": [
    "customer_behav =[\n",
    "  \"delinq_2yrs\",\n",
    "  \"earliest_cr_line\",\n",
    "  \"inq_last_6mths\",\n",
    "  \"open_acc\",\n",
    "  \"pub_rec\",\n",
    "  \"revol_bal\",\n",
    "  \"revol_util\",\n",
    "  \"total_acc\",\n",
    "  \"out_prncp\",\n",
    "  \"out_prncp_inv\",\n",
    "  \"total_pymnt\",\n",
    "  \"total_pymnt_inv\",\n",
    "  \"total_rec_prncp\",\n",
    "  \"total_rec_int\",\n",
    "  \"total_rec_late_fee\",\n",
    "  \"recoveries\",\n",
    "  \"collection_recovery_fee\",\n",
    "  \"last_pymnt_d\",\n",
    "  \"last_pymnt_amnt\",\n",
    "  \"last_credit_pull_d\",\n",
    "  \"application_type\"]\n",
    "customer_behav"
   ]
  },
  {
   "cell_type": "code",
   "execution_count": 504,
   "id": "72cef34b",
   "metadata": {},
   "outputs": [
    {
     "name": "stdout",
     "output_type": "stream",
     "text": [
      "<class 'pandas.core.frame.DataFrame'>\n",
      "Int64Index: 38642 entries, 0 to 39716\n",
      "Data columns (total 28 columns):\n",
      " #   Column                      Non-Null Count  Dtype  \n",
      "---  ------                      --------------  -----  \n",
      " 0   id                          38642 non-null  int64  \n",
      " 1   member_id                   38642 non-null  int64  \n",
      " 2   loan_amnt                   38642 non-null  int64  \n",
      " 3   funded_amnt                 38642 non-null  int64  \n",
      " 4   funded_amnt_inv             38642 non-null  float64\n",
      " 5   term                        38642 non-null  object \n",
      " 6   int_rate                    38642 non-null  float64\n",
      " 7   installment                 38642 non-null  float64\n",
      " 8   grade                       38642 non-null  object \n",
      " 9   sub_grade                   38642 non-null  object \n",
      " 10  emp_title                   37202 non-null  object \n",
      " 11  emp_length                  38642 non-null  int64  \n",
      " 12  home_ownership              38642 non-null  object \n",
      " 13  annual_inc                  38642 non-null  float64\n",
      " 14  verification_status         38642 non-null  object \n",
      " 15  issue_d                     38642 non-null  object \n",
      " 16  loan_status                 38642 non-null  object \n",
      " 17  pymnt_plan                  38642 non-null  object \n",
      " 18  purpose                     38642 non-null  object \n",
      " 19  dti                         38642 non-null  float64\n",
      " 20  initial_list_status         38642 non-null  object \n",
      " 21  collections_12_mths_ex_med  38586 non-null  float64\n",
      " 22  policy_code                 38642 non-null  int64  \n",
      " 23  acc_now_delinq              38642 non-null  int64  \n",
      " 24  chargeoff_within_12_mths    38586 non-null  float64\n",
      " 25  delinq_amnt                 38642 non-null  int64  \n",
      " 26  pub_rec_bankruptcies        37945 non-null  float64\n",
      " 27  tax_liens                   38603 non-null  float64\n",
      "dtypes: float64(9), int64(8), object(11)\n",
      "memory usage: 8.5+ MB\n"
     ]
    }
   ],
   "source": [
    "df = df.drop(customer_behav, axis=1)\n",
    "df.info()"
   ]
  },
  {
   "cell_type": "code",
   "execution_count": 505,
   "id": "dc6b86fa",
   "metadata": {},
   "outputs": [],
   "source": [
    "# We will deal with our target variable \" Loan Status\""
   ]
  },
  {
   "cell_type": "code",
   "execution_count": 506,
   "id": "001de0b7",
   "metadata": {},
   "outputs": [
    {
     "data": {
      "text/plain": [
       "Fully Paid     32145\n",
       "Charged Off     5399\n",
       "Current         1098\n",
       "Name: loan_status, dtype: int64"
      ]
     },
     "execution_count": 506,
     "metadata": {},
     "output_type": "execute_result"
    }
   ],
   "source": [
    "df['loan_status'] = df['loan_status'].astype('category')\n",
    "df['loan_status'].value_counts()"
   ]
  },
  {
   "cell_type": "code",
   "execution_count": 507,
   "id": "f216887a",
   "metadata": {},
   "outputs": [],
   "source": [
    "# Looking at the data we can infer that its fully paid in the most of the cases, few are charged off and few current. As current i.e. running loans cant give as any input we shall drop that info."
   ]
  },
  {
   "cell_type": "code",
   "execution_count": 508,
   "id": "d0dbf11a",
   "metadata": {},
   "outputs": [
    {
     "data": {
      "text/plain": [
       "Fully Paid     32145\n",
       "Charged Off     5399\n",
       "Current            0\n",
       "Name: loan_status, dtype: int64"
      ]
     },
     "execution_count": 508,
     "metadata": {},
     "output_type": "execute_result"
    }
   ],
   "source": [
    "df= df[df[\"loan_status\"]!= 'Current']\n",
    "df['loan_status'].value_counts()"
   ]
  },
  {
   "cell_type": "code",
   "execution_count": 509,
   "id": "2aaef2da",
   "metadata": {},
   "outputs": [],
   "source": [
    "# As there are only 2 variables we will convert to binary format so that it will be easy for analyzing"
   ]
  },
  {
   "cell_type": "code",
   "execution_count": 510,
   "id": "053f8e74",
   "metadata": {},
   "outputs": [
    {
     "data": {
      "text/plain": [
       "0    32145\n",
       "1     5399\n",
       "Name: loan_status, dtype: int64"
      ]
     },
     "execution_count": 510,
     "metadata": {},
     "output_type": "execute_result"
    }
   ],
   "source": [
    "df['loan_status'] = df['loan_status'].apply(lambda x: 0 if x=='Fully Paid' else 1)\n",
    "\n",
    "# converting loan_status to integer type\n",
    "df['loan_status'] = df['loan_status'].apply(lambda x: pd.to_numeric(x))\n",
    "\n",
    "# summarising the values\n",
    "df['loan_status'].value_counts()"
   ]
  },
  {
   "cell_type": "markdown",
   "id": "ae321314",
   "metadata": {},
   "source": [
    "# Univariate Analysis"
   ]
  },
  {
   "cell_type": "code",
   "execution_count": 511,
   "id": "b0763ff2",
   "metadata": {},
   "outputs": [
    {
     "data": {
      "text/plain": [
       "0.1438"
      ]
     },
     "execution_count": 511,
     "metadata": {},
     "output_type": "execute_result"
    }
   ],
   "source": [
    "# default rate\n",
    "# 5399 = 1, 32145 = 0: 5399/37544\n",
    "round(np.mean(df['loan_status']), 4)"
   ]
  },
  {
   "cell_type": "code",
   "execution_count": 512,
   "id": "8e2b5d80",
   "metadata": {},
   "outputs": [],
   "source": [
    "#So, Default rate is 14%"
   ]
  },
  {
   "cell_type": "code",
   "execution_count": 513,
   "id": "eead0400",
   "metadata": {},
   "outputs": [],
   "source": [
    "# function to plot loan_status across categorical variables\n",
    "def plot_cat(cat_var):\n",
    "    sns.barplot(x=cat_var, y='loan_status', data=df)\n",
    "    plt.show()"
   ]
  },
  {
   "cell_type": "code",
   "execution_count": 514,
   "id": "b3302d7c",
   "metadata": {},
   "outputs": [
    {
     "data": {
      "image/png": "[encoded data removed]",
      "text/plain": [
       "<Figure size 432x288 with 1 Axes>"
      ]
     },
     "metadata": {
      "needs_background": "light"
     },
     "output_type": "display_data"
    }
   ],
   "source": [
    "# Grade accross Loan Status\n",
    "plot_cat('grade')"
   ]
  },
  {
   "cell_type": "markdown",
   "id": "9508748d",
   "metadata": {},
   "source": [
    "#### As the grade of loan goes from A to G, the default rate increases. This is expected because the grade is decided by Lending Club based on the riskiness of the loan."
   ]
  },
  {
   "cell_type": "code",
   "execution_count": 515,
   "id": "0257f89f",
   "metadata": {},
   "outputs": [
    {
     "data": {
      "image/png": "[encoded data removed]",
      "text/plain": [
       "<Figure size 1296x360 with 1 Axes>"
      ]
     },
     "metadata": {
      "needs_background": "light"
     },
     "output_type": "display_data"
    }
   ],
   "source": [
    "# sub-grade across Loan Status\n",
    "plt.figure(figsize=(18, 5))\n",
    "plot_cat('sub_grade')"
   ]
  },
  {
   "cell_type": "markdown",
   "id": "fd0fa8d3",
   "metadata": {},
   "source": [
    "####  As the Sub grade of loan goes from A to G, the default rate increases. This is expected as per the grade chart"
   ]
  },
  {
   "cell_type": "code",
   "execution_count": 516,
   "id": "82966d8a",
   "metadata": {},
   "outputs": [],
   "source": [
    "# Term across Loan Status"
   ]
  },
  {
   "cell_type": "code",
   "execution_count": 517,
   "id": "b6f386b2",
   "metadata": {},
   "outputs": [
    {
     "data": {
      "image/png": "[encoded data removed]",
      "text/plain": [
       "<Figure size 432x288 with 1 Axes>"
      ]
     },
     "metadata": {
      "needs_background": "light"
     },
     "output_type": "display_data"
    }
   ],
   "source": [
    "plot_cat('term')"
   ]
  },
  {
   "cell_type": "markdown",
   "id": "2e15fa86",
   "metadata": {},
   "source": [
    "#### We can see that chances of default is more with 60 months period."
   ]
  },
  {
   "cell_type": "code",
   "execution_count": 518,
   "id": "76c5d2d9",
   "metadata": {},
   "outputs": [
    {
     "data": {
      "image/png": "[encoded data removed]",
      "text/plain": [
       "<Figure size 432x288 with 1 Axes>"
      ]
     },
     "metadata": {
      "needs_background": "light"
     },
     "output_type": "display_data"
    }
   ],
   "source": [
    "#Home Ownership across Loan Status\n",
    "plot_cat('home_ownership')"
   ]
  },
  {
   "cell_type": "markdown",
   "id": "dce10c8a",
   "metadata": {},
   "source": [
    "#### Default rate is lower when mortgage is there and high with Other."
   ]
  },
  {
   "cell_type": "code",
   "execution_count": 519,
   "id": "7cda6ce6",
   "metadata": {},
   "outputs": [
    {
     "data": {
      "image/png": "[encoded data removed]",
      "text/plain": [
       "<Figure size 432x288 with 1 Axes>"
      ]
     },
     "metadata": {
      "needs_background": "light"
     },
     "output_type": "display_data"
    }
   ],
   "source": [
    "# verification_status: surprisingly, verified loans default more than not verifiedb\n",
    "plot_cat('verification_status')"
   ]
  },
  {
   "cell_type": "markdown",
   "id": "75bf98d4",
   "metadata": {},
   "source": [
    "#### Surprisingly where the verification status is verified the default rate is very high."
   ]
  },
  {
   "cell_type": "code",
   "execution_count": 520,
   "id": "1e57dda8",
   "metadata": {},
   "outputs": [
    {
     "data": {
      "image/png": "[encoded data removed]",
      "text/plain": [
       "<Figure size 1296x360 with 1 Axes>"
      ]
     },
     "metadata": {
      "needs_background": "light"
     },
     "output_type": "display_data"
    }
   ],
   "source": [
    "# purpose: \n",
    "plt.figure(figsize=(18, 5))\n",
    "plt.xticks(rotation=45)\n",
    "plot_cat('purpose')"
   ]
  },
  {
   "cell_type": "markdown",
   "id": "43cba3ed",
   "metadata": {},
   "source": [
    "#### small business loans defualt the most, then renewable energy and education"
   ]
  },
  {
   "cell_type": "code",
   "execution_count": 521,
   "id": "fcdcdf21",
   "metadata": {},
   "outputs": [],
   "source": [
    "# Observing the distribution of loans across years and Months\n",
    "# Convert the year column into datetime and then extract year and month from it"
   ]
  },
  {
   "cell_type": "code",
   "execution_count": 522,
   "id": "2a793f4c",
   "metadata": {},
   "outputs": [
    {
     "data": {
      "text/plain": [
       "0    Dec-11\n",
       "1    Dec-11\n",
       "2    Dec-11\n",
       "3    Dec-11\n",
       "5    Dec-11\n",
       "Name: issue_d, dtype: object"
      ]
     },
     "execution_count": 522,
     "metadata": {},
     "output_type": "execute_result"
    }
   ],
   "source": [
    "df['issue_d'].head()"
   ]
  },
  {
   "cell_type": "code",
   "execution_count": 523,
   "id": "a45900f3",
   "metadata": {},
   "outputs": [],
   "source": [
    "from datetime import datetime\n",
    "df['issue_d'] = df['issue_d'].apply(lambda x: datetime.strptime(x, '%b-%y'))\n",
    "\n",
    "# extracting month and year from issue_date\n",
    "df['month'] = df['issue_d'].apply(lambda x: x.month)\n",
    "df['year'] = df['issue_d'].apply(lambda x: x.year)"
   ]
  },
  {
   "cell_type": "code",
   "execution_count": 524,
   "id": "3536b59d",
   "metadata": {},
   "outputs": [
    {
     "data": {
      "text/plain": [
       "year\n",
       "2007      251\n",
       "2008     1562\n",
       "2009     4716\n",
       "2010    11214\n",
       "2011    19801\n",
       "Name: year, dtype: int64"
      ]
     },
     "execution_count": 524,
     "metadata": {},
     "output_type": "execute_result"
    }
   ],
   "source": [
    "# Observing the distribution of loans across years\n",
    "df.groupby('year').year.count()"
   ]
  },
  {
   "cell_type": "code",
   "execution_count": 525,
   "id": "fa39350c",
   "metadata": {},
   "outputs": [
    {
     "data": {
      "text/plain": [
       "month\n",
       "1     2331\n",
       "2     2278\n",
       "3     2632\n",
       "4     2756\n",
       "5     2838\n",
       "6     3094\n",
       "7     3253\n",
       "8     3321\n",
       "9     3394\n",
       "10    3637\n",
       "11    3890\n",
       "12    4120\n",
       "Name: month, dtype: int64"
      ]
     },
     "execution_count": 525,
     "metadata": {},
     "output_type": "execute_result"
    }
   ],
   "source": [
    "# Observing the distribution of loans across Months\n",
    "df.groupby('month').month.count()"
   ]
  },
  {
   "cell_type": "code",
   "execution_count": 526,
   "id": "35d71216",
   "metadata": {},
   "outputs": [
    {
     "data": {
      "image/png": "[encoded data removed]",
      "text/plain": [
       "<Figure size 432x288 with 1 Axes>"
      ]
     },
     "metadata": {
      "needs_background": "light"
     },
     "output_type": "display_data"
    }
   ],
   "source": [
    "plot_cat('year')"
   ]
  },
  {
   "cell_type": "markdown",
   "id": "0480957f",
   "metadata": {},
   "source": [
    "#### We can see that default rate has increased in 2011 unlike the trend from 2007"
   ]
  },
  {
   "cell_type": "code",
   "execution_count": 527,
   "id": "239c1b4a",
   "metadata": {},
   "outputs": [
    {
     "data": {
      "image/png": "[encoded data removed]",
      "text/plain": [
       "<Figure size 1296x360 with 1 Axes>"
      ]
     },
     "metadata": {
      "needs_background": "light"
     },
     "output_type": "display_data"
    }
   ],
   "source": [
    "plt.figure(figsize=(18, 5))\n",
    "plot_cat(\"month\")"
   ]
  },
  {
   "cell_type": "markdown",
   "id": "3b6b2069",
   "metadata": {},
   "source": [
    "#### There is not much change in the default rate across months"
   ]
  },
  {
   "cell_type": "markdown",
   "id": "59151d84",
   "metadata": {},
   "source": [
    "# Loan Status across Continous Variables"
   ]
  },
  {
   "cell_type": "code",
   "execution_count": 528,
   "id": "a44bf03a",
   "metadata": {},
   "outputs": [
    {
     "data": {
      "image/png": "[encoded data removed]",
      "text/plain": [
       "<Figure size 360x360 with 1 Axes>"
      ]
     },
     "metadata": {
      "needs_background": "light"
     },
     "output_type": "display_data"
    }
   ],
   "source": [
    "sns.displot(df['loan_amnt'])\n",
    "plt.show()"
   ]
  },
  {
   "cell_type": "code",
   "execution_count": 529,
   "id": "fbb7b971",
   "metadata": {},
   "outputs": [],
   "source": [
    "# binning loan amount\n",
    "def loan_amount(n):\n",
    "    if n < 5000:\n",
    "        return 'low'\n",
    "    elif n >=5000 and n < 15000:\n",
    "        return 'medium'\n",
    "    elif n >= 15000 and n < 25000:\n",
    "        return 'high'\n",
    "    else:\n",
    "        return 'very high'\n",
    "        \n",
    "df['loan_amnt'] = df['loan_amnt'].apply(lambda x: loan_amount(x))"
   ]
  },
  {
   "cell_type": "code",
   "execution_count": 530,
   "id": "31fe3460",
   "metadata": {},
   "outputs": [
    {
     "data": {
      "text/plain": [
       "medium       20157\n",
       "high          7572\n",
       "low           7095\n",
       "very high     2720\n",
       "Name: loan_amnt, dtype: int64"
      ]
     },
     "execution_count": 530,
     "metadata": {},
     "output_type": "execute_result"
    }
   ],
   "source": [
    "df['loan_amnt'].value_counts()"
   ]
  },
  {
   "cell_type": "code",
   "execution_count": 531,
   "id": "6ca7c246",
   "metadata": {},
   "outputs": [
    {
     "data": {
      "image/png": "[encoded data removed]",
      "text/plain": [
       "<Figure size 432x288 with 1 Axes>"
      ]
     },
     "metadata": {
      "needs_background": "light"
     },
     "output_type": "display_data"
    }
   ],
   "source": [
    "plot_cat(\"loan_amnt\")"
   ]
  },
  {
   "cell_type": "markdown",
   "id": "2dde0e66",
   "metadata": {},
   "source": [
    "#### We can see that as the loan amount increased the default rate also increased considerably."
   ]
  },
  {
   "cell_type": "code",
   "execution_count": 532,
   "id": "63b4d079",
   "metadata": {},
   "outputs": [],
   "source": [
    "# converting funded amount invested to bins\n",
    "df['funded_amnt_inv'] = df['funded_amnt_inv'].apply(lambda x: loan_amount(x))"
   ]
  },
  {
   "cell_type": "code",
   "execution_count": 533,
   "id": "905885c9",
   "metadata": {},
   "outputs": [
    {
     "data": {
      "image/png": "[encoded data removed]",
      "text/plain": [
       "<Figure size 432x288 with 1 Axes>"
      ]
     },
     "metadata": {
      "needs_background": "light"
     },
     "output_type": "display_data"
    }
   ],
   "source": [
    "# funded amount invested across loan status\n",
    "plot_cat('funded_amnt_inv')"
   ]
  },
  {
   "cell_type": "markdown",
   "id": "f557004e",
   "metadata": {},
   "source": [
    "#### Higher the funded amount invested higher is the default rate"
   ]
  },
  {
   "cell_type": "code",
   "execution_count": 534,
   "id": "4f256190",
   "metadata": {},
   "outputs": [],
   "source": [
    "# Convert interest rate also to low, medium, high\n",
    "# binning Interest Rate\n",
    "def int_rate(n):\n",
    "    if n <= 10:\n",
    "        return 'low'\n",
    "    elif n > 10 and n <=15:\n",
    "        return 'medium'\n",
    "    else:\n",
    "        return 'high'\n",
    "    \n",
    "    \n",
    "df['int_rate'] = df['int_rate'].apply(lambda x: int_rate(x))"
   ]
  },
  {
   "cell_type": "code",
   "execution_count": 535,
   "id": "4a20c8b0",
   "metadata": {},
   "outputs": [
    {
     "data": {
      "image/png": "[encoded data removed]",
      "text/plain": [
       "<Figure size 432x288 with 1 Axes>"
      ]
     },
     "metadata": {
      "needs_background": "light"
     },
     "output_type": "display_data"
    }
   ],
   "source": [
    "plot_cat('int_rate')"
   ]
  },
  {
   "cell_type": "markdown",
   "id": "12007165",
   "metadata": {},
   "source": [
    "#### It is evident that higher the interest rate higher the chance of default"
   ]
  },
  {
   "cell_type": "code",
   "execution_count": 536,
   "id": "db193710",
   "metadata": {},
   "outputs": [],
   "source": [
    "# We have taken into consideration the amount of debt aviled to the annual income\n",
    "# debt to income ratio\n",
    "def debt_to_income(n):\n",
    "    if n <= 10:\n",
    "        return 'low'\n",
    "    elif n > 10 and n <=20:\n",
    "        return 'medium'\n",
    "    else:\n",
    "        return 'high'\n",
    "    \n",
    "\n",
    "df['dti'] = df['dti'].apply(lambda x: debt_to_income(x))"
   ]
  },
  {
   "cell_type": "code",
   "execution_count": 537,
   "id": "845cf73f",
   "metadata": {},
   "outputs": [
    {
     "data": {
      "image/png": "[encoded data removed]",
      "text/plain": [
       "<Figure size 432x288 with 1 Axes>"
      ]
     },
     "metadata": {
      "needs_background": "light"
     },
     "output_type": "display_data"
    }
   ],
   "source": [
    "plot_cat(\"dti\")"
   ]
  },
  {
   "cell_type": "markdown",
   "id": "ef4bcc78",
   "metadata": {},
   "source": [
    "#### Wherever debt to income ratio is higher the default probability is high."
   ]
  },
  {
   "cell_type": "code",
   "execution_count": 538,
   "id": "6e5053fa",
   "metadata": {},
   "outputs": [],
   "source": [
    "# funded amount\n",
    "def fund_amt(n):\n",
    "    if n <= 5000:\n",
    "        return 'low'\n",
    "    elif n > 5000 and n <=15000:\n",
    "        return 'medium'\n",
    "    else:\n",
    "        return 'high'\n",
    "    \n",
    "df['funded_amnt'] = df['funded_amnt'].apply(lambda x: fund_amt(x))"
   ]
  },
  {
   "cell_type": "code",
   "execution_count": 539,
   "id": "d5ac957e",
   "metadata": {},
   "outputs": [
    {
     "data": {
      "image/png": "[encoded data removed]",
      "text/plain": [
       "<Figure size 432x288 with 1 Axes>"
      ]
     },
     "metadata": {
      "needs_background": "light"
     },
     "output_type": "display_data"
    }
   ],
   "source": [
    "plot_cat(\"funded_amnt\")"
   ]
  },
  {
   "cell_type": "markdown",
   "id": "31c8a991",
   "metadata": {},
   "source": [
    "#### Wherever funded amoun is higher the default probability is high"
   ]
  },
  {
   "cell_type": "code",
   "execution_count": 540,
   "id": "95cf4f63",
   "metadata": {},
   "outputs": [],
   "source": [
    "# Installment\n",
    "def installment(n):\n",
    "    if n <= 200:\n",
    "        return 'low'\n",
    "    elif n > 200 and n <=400:\n",
    "        return 'medium'\n",
    "    elif n > 400 and n <=600:\n",
    "        return 'high'\n",
    "    else:\n",
    "        return 'very high'\n",
    "    \n",
    "df['installment'] = df['installment'].apply(lambda x: installment(x))"
   ]
  },
  {
   "cell_type": "code",
   "execution_count": 541,
   "id": "dbab966e",
   "metadata": {},
   "outputs": [
    {
     "data": {
      "image/png": "[encoded data removed]",
      "text/plain": [
       "<Figure size 432x288 with 1 Axes>"
      ]
     },
     "metadata": {
      "needs_background": "light"
     },
     "output_type": "display_data"
    }
   ],
   "source": [
    "plot_cat('installment')"
   ]
  },
  {
   "cell_type": "markdown",
   "id": "5c4e7625",
   "metadata": {},
   "source": [
    "#### We can see strong corelation between loan period and installment as higher the installments higher the chance of default."
   ]
  },
  {
   "cell_type": "code",
   "execution_count": 542,
   "id": "e4957ac5",
   "metadata": {},
   "outputs": [],
   "source": [
    "# annual income\n",
    "def annual_inc(n):\n",
    "    if n <= 50000:\n",
    "        return 'low'\n",
    "    elif n > 50000 and n <=100000:\n",
    "        return 'medium'\n",
    "    elif n > 100000 and n <=150000:\n",
    "        return 'high'\n",
    "    else:\n",
    "        return 'very high'\n",
    "\n",
    "df['annual_inc'] = df['annual_inc'].apply(lambda x: annual_inc(x))"
   ]
  },
  {
   "cell_type": "code",
   "execution_count": 543,
   "id": "3659ae8d",
   "metadata": {},
   "outputs": [
    {
     "data": {
      "image/png": "[encoded data removed]",
      "text/plain": [
       "<Figure size 432x288 with 1 Axes>"
      ]
     },
     "metadata": {
      "needs_background": "light"
     },
     "output_type": "display_data"
    }
   ],
   "source": [
    "plot_cat('annual_inc')"
   ]
  },
  {
   "cell_type": "markdown",
   "id": "75ebc333",
   "metadata": {},
   "source": [
    "#### Lower the income higher the chances of default"
   ]
  },
  {
   "cell_type": "code",
   "execution_count": 544,
   "id": "4955afe5",
   "metadata": {},
   "outputs": [
    {
     "data": {
      "text/plain": [
       "0"
      ]
     },
     "execution_count": 544,
     "metadata": {},
     "output_type": "execute_result"
    }
   ],
   "source": [
    "df.emp_length.isnull().sum()"
   ]
  },
  {
   "cell_type": "code",
   "execution_count": 545,
   "id": "7a2b893c",
   "metadata": {},
   "outputs": [
    {
     "data": {
      "image/png": "[encoded data removed]",
      "text/plain": [
       "<Figure size 432x288 with 1 Axes>"
      ]
     },
     "metadata": {
      "needs_background": "light"
     },
     "output_type": "display_data"
    }
   ],
   "source": [
    "# binning the employee service length\n",
    "def emp_length(n):\n",
    "    if n <= 1:\n",
    "        return 'fresher'\n",
    "    elif n > 1 and n <=3:\n",
    "        return 'junior'\n",
    "    elif n > 3 and n <=7:\n",
    "        return 'senior'\n",
    "    else:\n",
    "        return 'expert'\n",
    "\n",
    "df['emp_length'] = df['emp_length'].apply(lambda x: emp_length(x))\n",
    "plot_cat('emp_length')"
   ]
  },
  {
   "cell_type": "markdown",
   "id": "84e3ca9f",
   "metadata": {},
   "source": [
    "#### Employee's lenght of service doesn't seem to have much effect on default rate."
   ]
  },
  {
   "cell_type": "code",
   "execution_count": 546,
   "id": "2a7f1091",
   "metadata": {},
   "outputs": [
    {
     "data": {
      "image/png": "[encoded data removed]",
      "text/plain": [
       "<Figure size 1152x432 with 1 Axes>"
      ]
     },
     "metadata": {
      "needs_background": "light"
     },
     "output_type": "display_data"
    }
   ],
   "source": [
    "# Quantum of loans for each type (purpose) of the loan\n",
    "plt.figure(figsize=(16, 6))\n",
    "plt.xticks(rotation=45)\n",
    "sns.countplot(x='purpose', data=df)\n",
    "plt.show()"
   ]
  },
  {
   "cell_type": "markdown",
   "id": "ef5c44e8",
   "metadata": {},
   "source": [
    " #### Major part of loans are for debt consolidation (to repay otehr debts), then credit card, major purchase etc."
   ]
  },
  {
   "cell_type": "code",
   "execution_count": 547,
   "id": "f7b2574b",
   "metadata": {},
   "outputs": [
    {
     "data": {
      "text/plain": [
       "debt_consolidation    17675\n",
       "credit_card            4899\n",
       "home_improvement       2785\n",
       "major_purchase         2080\n",
       "Name: purpose, dtype: int64"
      ]
     },
     "execution_count": 547,
     "metadata": {},
     "output_type": "execute_result"
    }
   ],
   "source": [
    "# There are 5 purpose's which mainly consititute the major loan disbursals. Namely Debt Consolidation, Credit Card, Other, Home Improvement and major purchase.\n",
    "# As we cannot define the purpose \"other\", we will discard the variable and analyse the other 4 purposes.\n",
    "main_purposes = [\"credit_card\",\"debt_consolidation\",\"home_improvement\",\"major_purchase\"]\n",
    "df = df[df['purpose'].isin(main_purposes)]\n",
    "df['purpose'].value_counts()"
   ]
  },
  {
   "cell_type": "code",
   "execution_count": 548,
   "id": "f1b5c9f9",
   "metadata": {},
   "outputs": [
    {
     "data": {
      "image/png": "[encoded data removed]",
      "text/plain": [
       "<Figure size 432x288 with 1 Axes>"
      ]
     },
     "metadata": {
      "needs_background": "light"
     },
     "output_type": "display_data"
    }
   ],
   "source": [
    "# plotting the 4 major contributors in purpose\n",
    "sns.countplot(x=df['purpose'])\n",
    "plt.xticks(rotation=45)\n",
    "plt.show()"
   ]
  },
  {
   "cell_type": "code",
   "execution_count": 551,
   "id": "6e2590f3",
   "metadata": {},
   "outputs": [],
   "source": [
    "# comparing the default rates across two types of categorical variables at a time\n",
    "# purpose of loan, loan status and another categorical variable\n",
    "\n",
    "def plot_segmented(cat_var):\n",
    "    plt.figure(figsize=(10, 6))\n",
    "    sns.barplot(x=cat_var, y='loan_status', hue='purpose', data=df)\n",
    "    plt.show()"
   ]
  },
  {
   "cell_type": "code",
   "execution_count": 552,
   "id": "80c8484c",
   "metadata": {},
   "outputs": [
    {
     "data": {
      "image/png": "[encoded data removed]",
      "text/plain": [
       "<Figure size 720x432 with 1 Axes>"
      ]
     },
     "metadata": {
      "needs_background": "light"
     },
     "output_type": "display_data"
    }
   ],
   "source": [
    "# Across Loan Term\n",
    "plot_segmented('term')"
   ]
  },
  {
   "cell_type": "code",
   "execution_count": 553,
   "id": "557e5e3a",
   "metadata": {},
   "outputs": [
    {
     "data": {
      "image/png": "[encoded data removed]",
      "text/plain": [
       "<Figure size 720x432 with 1 Axes>"
      ]
     },
     "metadata": {
      "needs_background": "light"
     },
     "output_type": "display_data"
    }
   ],
   "source": [
    "# Across the Grade\n",
    "plot_segmented('grade')"
   ]
  },
  {
   "cell_type": "code",
   "execution_count": 363,
   "id": "2efd0c7b",
   "metadata": {},
   "outputs": [
    {
     "data": {
      "image/png": "[encoded data removed]",
      "text/plain": [
       "<Figure size 720x432 with 1 Axes>"
      ]
     },
     "metadata": {
      "needs_background": "light"
     },
     "output_type": "display_data"
    }
   ],
   "source": [
    "# Across the home ownership\n",
    "plot_segmented('home_ownership')"
   ]
  },
  {
   "cell_type": "code",
   "execution_count": 364,
   "id": "f79d6466",
   "metadata": {},
   "outputs": [
    {
     "data": {
      "image/png": "[encoded data removed]",
      "text/plain": [
       "<Figure size 720x432 with 1 Axes>"
      ]
     },
     "metadata": {
      "needs_background": "light"
     },
     "output_type": "display_data"
    }
   ],
   "source": [
    "# Across the year\n",
    "plot_segmented('year')"
   ]
  },
  {
   "cell_type": "code",
   "execution_count": 365,
   "id": "be3c384a",
   "metadata": {},
   "outputs": [
    {
     "data": {
      "image/png": "[encoded data removed]",
      "text/plain": [
       "<Figure size 720x432 with 1 Axes>"
      ]
     },
     "metadata": {
      "needs_background": "light"
     },
     "output_type": "display_data"
    }
   ],
   "source": [
    "# Across the variable emp_length\n",
    "plot_segmented('emp_length')"
   ]
  },
  {
   "cell_type": "code",
   "execution_count": 366,
   "id": "feb013df",
   "metadata": {},
   "outputs": [
    {
     "data": {
      "image/png": "[encoded data removed]",
      "text/plain": [
       "<Figure size 720x432 with 1 Axes>"
      ]
     },
     "metadata": {
      "needs_background": "light"
     },
     "output_type": "display_data"
    }
   ],
   "source": [
    "# Across Loan Amount\n",
    "plot_segmented('loan_amnt')"
   ]
  },
  {
   "cell_type": "markdown",
   "id": "3e449fb7",
   "metadata": {},
   "source": [
    "#### loan amount has same trend across loan purposes and across the level of loan amount"
   ]
  },
  {
   "cell_type": "code",
   "execution_count": 367,
   "id": "b42858d6",
   "metadata": {},
   "outputs": [
    {
     "data": {
      "image/png": "[encoded data removed]",
      "text/plain": [
       "<Figure size 720x432 with 1 Axes>"
      ]
     },
     "metadata": {
      "needs_background": "light"
     },
     "output_type": "display_data"
    }
   ],
   "source": [
    "# Across the interest rate\n",
    "plot_segmented('int_rate')"
   ]
  },
  {
   "cell_type": "markdown",
   "id": "b1187d04",
   "metadata": {},
   "source": [
    "#### When the Interest rate is high the incidence of default is very high"
   ]
  },
  {
   "cell_type": "code",
   "execution_count": 368,
   "id": "ee65505d",
   "metadata": {},
   "outputs": [
    {
     "data": {
      "image/png": "[encoded data removed]",
      "text/plain": [
       "<Figure size 720x432 with 1 Axes>"
      ]
     },
     "metadata": {
      "needs_background": "light"
     },
     "output_type": "display_data"
    }
   ],
   "source": [
    "# Across installment\n",
    "plot_segmented('installment')"
   ]
  },
  {
   "cell_type": "code",
   "execution_count": 369,
   "id": "8569dbd8",
   "metadata": {},
   "outputs": [
    {
     "data": {
      "image/png": "[encoded data removed]",
      "text/plain": [
       "<Figure size 720x432 with 1 Axes>"
      ]
     },
     "metadata": {
      "needs_background": "light"
     },
     "output_type": "display_data"
    }
   ],
   "source": [
    "# annual income\n",
    "plot_segmented('annual_inc')"
   ]
  },
  {
   "cell_type": "markdown",
   "id": "8bb5211a",
   "metadata": {},
   "source": [
    "#### Low Income applicants are more prone to default in general and variance in the very high income group is very high in comparision to other income groups. "
   ]
  },
  {
   "cell_type": "code",
   "execution_count": 370,
   "id": "d44769d2",
   "metadata": {},
   "outputs": [
    {
     "data": {
      "image/png": "[encoded data removed]",
      "text/plain": [
       "<Figure size 720x432 with 1 Axes>"
      ]
     },
     "metadata": {
      "needs_background": "light"
     },
     "output_type": "display_data"
    }
   ],
   "source": [
    "# debt to income ratio\n",
    "plot_segmented('dti')"
   ]
  },
  {
   "cell_type": "markdown",
   "id": "4e787615",
   "metadata": {},
   "source": [
    "#### The default rate is very high where debt to income ration is very high especially loans taken for home improvement"
   ]
  },
  {
   "cell_type": "code",
   "execution_count": 371,
   "id": "7b9ce0a6",
   "metadata": {},
   "outputs": [],
   "source": [
    "# Calculating the effect of the different varaibles on default rate\n",
    "def diff_rate(cat_var):\n",
    "    default_rates = df.groupby(cat_var).loan_status.mean().sort_values(ascending=False)\n",
    "    return (round(default_rates, 2), round(default_rates[0] - default_rates[-1], 2))"
   ]
  },
  {
   "cell_type": "code",
   "execution_count": 372,
   "id": "a6cb9442",
   "metadata": {},
   "outputs": [
    {
     "name": "stdout",
     "output_type": "stream",
     "text": [
      "['id', 'member_id', 'loan_amnt', 'funded_amnt', 'funded_amnt_inv', 'term', 'int_rate', 'installment', 'grade', 'sub_grade', 'emp_title', 'emp_length', 'home_ownership', 'annual_inc', 'verification_status', 'issue_d', 'loan_status', 'pymnt_plan', 'purpose', 'dti', 'initial_list_status', 'collections_12_mths_ex_med', 'policy_code', 'acc_now_delinq', 'chargeoff_within_12_mths', 'delinq_amnt', 'pub_rec_bankruptcies', 'tax_liens', 'month', 'year']\n"
     ]
    },
    {
     "name": "stderr",
     "output_type": "stream",
     "text": [
      "C:\\Users\\Zenbook\\AppData\\Local\\Temp\\ipykernel_21040\\125440480.py:2: SettingWithCopyWarning: \n",
      "A value is trying to be set on a copy of a slice from a DataFrame.\n",
      "Try using .loc[row_indexer,col_indexer] = value instead\n",
      "\n",
      "See the caveats in the documentation: https://pandas.pydata.org/pandas-docs/stable/user_guide/indexing.html#returning-a-view-versus-a-copy\n",
      "  df_categorical['loan_status'] = df['loan_status']\n"
     ]
    }
   ],
   "source": [
    "df_categorical = df.loc[:, df.dtypes == object]\n",
    "df_categorical['loan_status'] = df['loan_status']\n",
    "print([i for i in df.columns])"
   ]
  },
  {
   "cell_type": "code",
   "execution_count": 373,
   "id": "1c29b783",
   "metadata": {},
   "outputs": [
    {
     "name": "stdout",
     "output_type": "stream",
     "text": [
      "{'loan_amnt': 7.000000000000001, 'funded_amnt': 5.0, 'funded_amnt_inv': 6.0, 'term': 15.0, 'int_rate': 19.0, 'installment': 3.0, 'grade': 27.0, 'sub_grade': 46.0, 'emp_title': 100.0, 'emp_length': 2.0, 'home_ownership': 16.0, 'annual_inc': 6.0, 'verification_status': 4.0, 'pymnt_plan': 0.0, 'purpose': 5.0, 'dti': 5.0, 'initial_list_status': 0.0}\n"
     ]
    }
   ],
   "source": [
    "d = {key: diff_rate(key)[1]*100 for key in df_categorical.columns if key != 'loan_status'}\n",
    "print(d)"
   ]
  },
  {
   "cell_type": "code",
   "execution_count": 374,
   "id": "03251b25",
   "metadata": {},
   "outputs": [],
   "source": [
    "# From the above results we can see that following variables are effecting the default rate considerably:\n",
    "# 1. Grade/Sub Grade - 27%/46%\n",
    "# 2. Interest Rate - 19%\n",
    "# 3. Home Ownership - 16%\n",
    "# 4. Loan Amount - 7%"
   ]
  },
  {
   "cell_type": "code",
   "execution_count": null,
   "id": "e80c5ea3",
   "metadata": {},
   "outputs": [],
   "source": []
  }
 ],
 "metadata": {
  "kernelspec": {
   "display_name": "Python 3 (ipykernel)",
   "language": "python",
   "name": "python3"
  },
  "language_info": {
   "codemirror_mode": {
    "name": "ipython",
    "version": 3
   },
   "file_extension": ".py",
   "mimetype": "text/x-python",
   "name": "python",
   "nbconvert_exporter": "python",
   "pygments_lexer": "ipython3",
   "version": "3.9.12"
  }
 },
 "nbformat": 4,
 "nbformat_minor": 5
}
